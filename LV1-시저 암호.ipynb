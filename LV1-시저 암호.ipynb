{
 "cells": [
  {
   "cell_type": "markdown",
   "id": "17ec5d94",
   "metadata": {},
   "source": [
    "# LV1-시저 암호\n",
    "\n",
    "- https://school.programmers.co.kr/learn/courses/30/lessons/12926"
   ]
  },
  {
   "cell_type": "markdown",
   "id": "e58dbcfb",
   "metadata": {},
   "source": [
    "---"
   ]
  },
  {
   "cell_type": "code",
   "execution_count": 1,
   "id": "dddecbde",
   "metadata": {},
   "outputs": [],
   "source": [
    "# sol1 - \n",
    "def solution(s, n):\n",
    "    \n",
    "    answer = ''\n",
    "\n",
    "    for c in s:\n",
    "        \n",
    "        c = ord(c)\n",
    "        \n",
    "        # 공백 처리\n",
    "        if c == 32:\n",
    "            answer += chr(c)\n",
    "        \n",
    "        # 대문자 \n",
    "        elif 65 <= c <= 90:\n",
    "            if c + n > 90:\n",
    "                c = 65 + ((c + n) % 90) - 1\n",
    "            else:\n",
    "                c = c + n\n",
    "            answer += chr(c)\n",
    "        \n",
    "        # 소문자\n",
    "        elif 97 <= c <= 122:\n",
    "            \n",
    "            if c + n > 122:\n",
    "                c = 97 + ((c + n) % 122) - 1\n",
    "            else:\n",
    "                c = c + n\n",
    "            answer += chr(c)\n",
    "\n",
    "            \n",
    "    return answer"
   ]
  },
  {
   "cell_type": "code",
   "execution_count": 2,
   "id": "8d4f1989",
   "metadata": {},
   "outputs": [
    {
     "data": {
      "text/plain": [
       "'e F d'"
      ]
     },
     "execution_count": 2,
     "metadata": {},
     "output_type": "execute_result"
    }
   ],
   "source": [
    "solution(\"a B z\",4)"
   ]
  },
  {
   "cell_type": "markdown",
   "id": "184a65e9",
   "metadata": {},
   "source": [
    "---"
   ]
  },
  {
   "cell_type": "code",
   "execution_count": null,
   "id": "aec6b62c",
   "metadata": {},
   "outputs": [],
   "source": []
  }
 ],
 "metadata": {
  "kernelspec": {
   "display_name": "Python 3 (ipykernel)",
   "language": "python",
   "name": "python3"
  },
  "language_info": {
   "codemirror_mode": {
    "name": "ipython",
    "version": 3
   },
   "file_extension": ".py",
   "mimetype": "text/x-python",
   "name": "python",
   "nbconvert_exporter": "python",
   "pygments_lexer": "ipython3",
   "version": "3.8.16"
  },
  "toc": {
   "base_numbering": 1,
   "nav_menu": {},
   "number_sections": true,
   "sideBar": true,
   "skip_h1_title": false,
   "title_cell": "Table of Contents",
   "title_sidebar": "Contents",
   "toc_cell": false,
   "toc_position": {},
   "toc_section_display": true,
   "toc_window_display": false
  },
  "varInspector": {
   "cols": {
    "lenName": 16,
    "lenType": 16,
    "lenVar": 40
   },
   "kernels_config": {
    "python": {
     "delete_cmd_postfix": "",
     "delete_cmd_prefix": "del ",
     "library": "var_list.py",
     "varRefreshCmd": "print(var_dic_list())"
    },
    "r": {
     "delete_cmd_postfix": ") ",
     "delete_cmd_prefix": "rm(",
     "library": "var_list.r",
     "varRefreshCmd": "cat(var_dic_list()) "
    }
   },
   "types_to_exclude": [
    "module",
    "function",
    "builtin_function_or_method",
    "instance",
    "_Feature"
   ],
   "window_display": false
  }
 },
 "nbformat": 4,
 "nbformat_minor": 5
}
