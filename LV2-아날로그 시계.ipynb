{
 "cells": [
  {
   "cell_type": "markdown",
   "id": "e7fb8782",
   "metadata": {},
   "source": [
    "# LV2-[PCCP 기출문제] 3번 / 아날로그 시계\n",
    "- https://school.programmers.co.kr/learn/courses/30/lessons/250135"
   ]
  },
  {
   "cell_type": "markdown",
   "id": "971a73e2",
   "metadata": {},
   "source": [
    "이 시계에는 초침이 시침/분침과 겹칠 때마다 알람이 울리는 기능이 있습니다. \n",
    "\n",
    "당신은 특정 시간 동안 알람이 울린 횟수를 알고 싶습니다.\n",
    "\n",
    "0시 5분 30초부터 \n",
    "\n",
    "0시 7분 0초까지\n",
    "\n",
    "약 0시 6분 0.501초에 초침과 시침이 겹칩니다. \n",
    "\n",
    "60초가 되면서, 시도 ㅈㄴ 조금 이동 한거지 \n",
    "\n",
    "\n"
   ]
  }
 ],
 "metadata": {
  "kernelspec": {
   "display_name": "Python 3 (ipykernel)",
   "language": "python",
   "name": "python3"
  },
  "language_info": {
   "codemirror_mode": {
    "name": "ipython",
    "version": 3
   },
   "file_extension": ".py",
   "mimetype": "text/x-python",
   "name": "python",
   "nbconvert_exporter": "python",
   "pygments_lexer": "ipython3",
   "version": "3.8.16"
  },
  "toc": {
   "base_numbering": 1,
   "nav_menu": {},
   "number_sections": true,
   "sideBar": true,
   "skip_h1_title": false,
   "title_cell": "Table of Contents",
   "title_sidebar": "Contents",
   "toc_cell": false,
   "toc_position": {},
   "toc_section_display": true,
   "toc_window_display": false
  },
  "varInspector": {
   "cols": {
    "lenName": 16,
    "lenType": 16,
    "lenVar": 40
   },
   "kernels_config": {
    "python": {
     "delete_cmd_postfix": "",
     "delete_cmd_prefix": "del ",
     "library": "var_list.py",
     "varRefreshCmd": "print(var_dic_list())"
    },
    "r": {
     "delete_cmd_postfix": ") ",
     "delete_cmd_prefix": "rm(",
     "library": "var_list.r",
     "varRefreshCmd": "cat(var_dic_list()) "
    }
   },
   "types_to_exclude": [
    "module",
    "function",
    "builtin_function_or_method",
    "instance",
    "_Feature"
   ],
   "window_display": false
  }
 },
 "nbformat": 4,
 "nbformat_minor": 5
}
