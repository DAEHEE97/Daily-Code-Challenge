{
 "cells": [
  {
   "cell_type": "code",
   "execution_count": 4,
   "id": "2d116434",
   "metadata": {},
   "outputs": [],
   "source": [
    "from collections import Counter\n",
    "\n",
    "# 롤케이크를 공평하게 자르는 방법의 수\n",
    "\n",
    "def solution(topping):\n",
    "    \n",
    "    dic = Counter(topping)\n",
    "    print(dic)\n",
    "    \n",
    "    sset = set()\n",
    "    \n",
    "    ans = 0\n",
    "    \n",
    "    # 앞에껄 줄이면서 sset에 채우기 \n",
    "    for i in topping:\n",
    "        \n",
    "        dic[i] -= 1\n",
    "        # 뒤\n",
    "        sset.add(i)\n",
    "        \n",
    "        # 앞 \n",
    "        if dic[i] == 0:\n",
    "            dic.pop(i)\n",
    "        \n",
    "        if len(dic) == len(sset):\n",
    "            ans += 1\n",
    "        \n",
    "    return ans"
   ]
  },
  {
   "cell_type": "code",
   "execution_count": 5,
   "id": "e50e17c1",
   "metadata": {},
   "outputs": [
    {
     "name": "stdout",
     "output_type": "stream",
     "text": [
      "Counter({1: 4, 2: 2, 3: 1, 4: 1})\n"
     ]
    },
    {
     "data": {
      "text/plain": [
       "2"
      ]
     },
     "execution_count": 5,
     "metadata": {},
     "output_type": "execute_result"
    }
   ],
   "source": [
    "# 1 4, 2 2, 3,1 4,1\n",
    "solution([1, 2, 1, 3, 1, 4, 1, 2])"
   ]
  },
  {
   "cell_type": "code",
   "execution_count": 16,
   "id": "a3cd8679",
   "metadata": {},
   "outputs": [],
   "source": [
    "dic = Counter([1, 2, 1, 3, 1, 4, 1, 2])\n"
   ]
  },
  {
   "cell_type": "code",
   "execution_count": 17,
   "id": "ebebde6d",
   "metadata": {},
   "outputs": [
    {
     "data": {
      "text/plain": [
       "Counter({1: 4, 2: 2, 3: 1, 4: 1})"
      ]
     },
     "execution_count": 17,
     "metadata": {},
     "output_type": "execute_result"
    }
   ],
   "source": [
    "dic"
   ]
  },
  {
   "cell_type": "code",
   "execution_count": 25,
   "id": "1a3dde36",
   "metadata": {},
   "outputs": [],
   "source": [
    "dic[3] -= 1"
   ]
  },
  {
   "cell_type": "code",
   "execution_count": 26,
   "id": "f7c5bb73",
   "metadata": {},
   "outputs": [
    {
     "data": {
      "text/plain": [
       "Counter({1: 2, 2: 1, 3: 0, 4: 1})"
      ]
     },
     "execution_count": 26,
     "metadata": {},
     "output_type": "execute_result"
    }
   ],
   "source": [
    "dic"
   ]
  },
  {
   "cell_type": "code",
   "execution_count": 15,
   "id": "bfc174bd",
   "metadata": {},
   "outputs": [],
   "source": [
    "sset = set()\n",
    "sset.add(1)"
   ]
  },
  {
   "cell_type": "code",
   "execution_count": null,
   "id": "57da78a0",
   "metadata": {},
   "outputs": [],
   "source": [
    "if dic[2] == 0:\n",
    "    2"
   ]
  }
 ],
 "metadata": {
  "kernelspec": {
   "display_name": "Python 3 (ipykernel)",
   "language": "python",
   "name": "python3"
  },
  "language_info": {
   "codemirror_mode": {
    "name": "ipython",
    "version": 3
   },
   "file_extension": ".py",
   "mimetype": "text/x-python",
   "name": "python",
   "nbconvert_exporter": "python",
   "pygments_lexer": "ipython3",
   "version": "3.8.16"
  },
  "toc": {
   "base_numbering": 1,
   "nav_menu": {},
   "number_sections": true,
   "sideBar": true,
   "skip_h1_title": false,
   "title_cell": "Table of Contents",
   "title_sidebar": "Contents",
   "toc_cell": false,
   "toc_position": {},
   "toc_section_display": true,
   "toc_window_display": false
  },
  "varInspector": {
   "cols": {
    "lenName": 16,
    "lenType": 16,
    "lenVar": 40
   },
   "kernels_config": {
    "python": {
     "delete_cmd_postfix": "",
     "delete_cmd_prefix": "del ",
     "library": "var_list.py",
     "varRefreshCmd": "print(var_dic_list())"
    },
    "r": {
     "delete_cmd_postfix": ") ",
     "delete_cmd_prefix": "rm(",
     "library": "var_list.r",
     "varRefreshCmd": "cat(var_dic_list()) "
    }
   },
   "types_to_exclude": [
    "module",
    "function",
    "builtin_function_or_method",
    "instance",
    "_Feature"
   ],
   "window_display": false
  }
 },
 "nbformat": 4,
 "nbformat_minor": 5
}
