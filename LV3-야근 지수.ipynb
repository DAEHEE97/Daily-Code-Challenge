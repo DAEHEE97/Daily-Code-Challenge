{
 "cells": [
  {
   "cell_type": "markdown",
   "id": "0815ec43",
   "metadata": {},
   "source": [
    "# LV3-야근 지수\n",
    "\n",
    "- https://school.programmers.co.kr/learn/courses/30/lessons/12927"
   ]
  },
  {
   "cell_type": "markdown",
   "id": "1cb3f881",
   "metadata": {},
   "source": [
    "---"
   ]
  },
  {
   "cell_type": "code",
   "execution_count": null,
   "id": "b68aa43b",
   "metadata": {},
   "outputs": [],
   "source": [
    "# 근무 피로도 = 남은 작업량의 제곱\n",
    "# 배열 내 모든 원소들의 제곱값의 합을 최소로 만드는 것, -> 원소들을 하향평준화 \n",
    "# 작업량이 내림차순 우선 처리 \n",
    "\n",
    "\n",
    "# 434, > 16 9 > 9 9 \n",
    "\n",
    "def solution(n, works):\n",
    "    \n",
    "    if n >= sum(works):\n",
    "        return 0\n",
    "    \n",
    "    \n",
    "    works.sort(reverse = True)\n",
    "    \n",
    "    # n시간동안 작업, 작업량이 큰 순으로 처리\n",
    "    for _ in range(n):\n",
    "        works[0] -= 1\n",
    "        works.sort(reverse = True)\n",
    "\n",
    "    answer = sum([ work ** 2 for work in works ])\n",
    "    \n",
    "    return answer"
   ]
  },
  {
   "cell_type": "markdown",
   "id": "8a976658",
   "metadata": {},
   "source": [
    "---"
   ]
  },
  {
   "cell_type": "code",
   "execution_count": null,
   "id": "ac959aa4",
   "metadata": {},
   "outputs": [],
   "source": [
    "import heapq\n",
    "\n",
    "def solution(n, works):\n",
    "    \n",
    "    if sum(works) <= n:\n",
    "        return 0\n",
    "    \n",
    "    # heapq는 최소값이 우선이기 때문에, \n",
    "    # '-'를 붙이게 되면 최솟값이 아닌 최대값 기준으로 정렬한 것과 같은 효과를 볼 수 있음.\n",
    "    \n",
    "    works = [-work for work in works]\n",
    "    heapq.heapify(works)\n",
    "    \n",
    "    # heapq.heapify([-work for w in works])\n",
    "\n",
    "    for _ in range(n):\n",
    "        v = heapq.heappop(works)\n",
    "        heapq.heappush(works, v+1)\n",
    "        \n",
    "        \n",
    "    answer = sum([ work ** 2 for work in works ])\n",
    "\n",
    "    return answer\n"
   ]
  },
  {
   "cell_type": "markdown",
   "id": "79862b69",
   "metadata": {},
   "source": [
    "---"
   ]
  },
  {
   "cell_type": "code",
   "execution_count": 12,
   "id": "1a1a07ad",
   "metadata": {},
   "outputs": [
    {
     "name": "stdout",
     "output_type": "stream",
     "text": [
      "[-4, -3, -3]\n"
     ]
    }
   ],
   "source": [
    "import heapq\n",
    "\n",
    "\n",
    "works = [4, 3, 3]\n",
    "\n",
    "works = [-work for work in works]\n",
    "\n",
    "print(works)\n",
    "\n"
   ]
  }
 ],
 "metadata": {
  "kernelspec": {
   "display_name": "Python 3 (ipykernel)",
   "language": "python",
   "name": "python3"
  },
  "language_info": {
   "codemirror_mode": {
    "name": "ipython",
    "version": 3
   },
   "file_extension": ".py",
   "mimetype": "text/x-python",
   "name": "python",
   "nbconvert_exporter": "python",
   "pygments_lexer": "ipython3",
   "version": "3.8.16"
  },
  "toc": {
   "base_numbering": 1,
   "nav_menu": {},
   "number_sections": true,
   "sideBar": true,
   "skip_h1_title": false,
   "title_cell": "Table of Contents",
   "title_sidebar": "Contents",
   "toc_cell": false,
   "toc_position": {},
   "toc_section_display": true,
   "toc_window_display": false
  },
  "varInspector": {
   "cols": {
    "lenName": 16,
    "lenType": 16,
    "lenVar": 40
   },
   "kernels_config": {
    "python": {
     "delete_cmd_postfix": "",
     "delete_cmd_prefix": "del ",
     "library": "var_list.py",
     "varRefreshCmd": "print(var_dic_list())"
    },
    "r": {
     "delete_cmd_postfix": ") ",
     "delete_cmd_prefix": "rm(",
     "library": "var_list.r",
     "varRefreshCmd": "cat(var_dic_list()) "
    }
   },
   "types_to_exclude": [
    "module",
    "function",
    "builtin_function_or_method",
    "instance",
    "_Feature"
   ],
   "window_display": false
  }
 },
 "nbformat": 4,
 "nbformat_minor": 5
}
