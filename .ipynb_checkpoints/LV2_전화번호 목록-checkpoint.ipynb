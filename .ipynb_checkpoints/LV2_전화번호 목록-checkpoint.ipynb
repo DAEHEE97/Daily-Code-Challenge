{
 "cells": [
  {
   "cell_type": "markdown",
   "id": "42ac0367",
   "metadata": {},
   "source": [
    "# LV2_전화번호 목록\n",
    "- https://school.programmers.co.kr/learn/courses/30/lessons/42577"
   ]
  },
  {
   "cell_type": "code",
   "execution_count": 1,
   "id": "a297c047",
   "metadata": {},
   "outputs": [],
   "source": [
    "# sol 1 시간 초과\n",
    "\n",
    "def solution(phone_book):\n",
    "    \n",
    "    answer = True\n",
    "    \n",
    "    # lst에서 하나씩 꺼내서 확인\n",
    "    for s in phone_book:\n",
    "        \n",
    "        for c in phone_book:\n",
    "            \n",
    "            if s == c:\n",
    "                continue\n",
    "            \n",
    "            if c[:len(s)] == s:\n",
    "                answer = False\n",
    "                break\n",
    "        \n",
    "        \n",
    "    return answer"
   ]
  },
  {
   "cell_type": "markdown",
   "id": "d4485c56",
   "metadata": {},
   "source": [
    "---"
   ]
  },
  {
   "cell_type": "code",
   "execution_count": null,
   "id": "67af07cb",
   "metadata": {},
   "outputs": [],
   "source": [
    "# sol 2 해시"
   ]
  }
 ],
 "metadata": {
  "kernelspec": {
   "display_name": "Python 3 (ipykernel)",
   "language": "python",
   "name": "python3"
  },
  "language_info": {
   "codemirror_mode": {
    "name": "ipython",
    "version": 3
   },
   "file_extension": ".py",
   "mimetype": "text/x-python",
   "name": "python",
   "nbconvert_exporter": "python",
   "pygments_lexer": "ipython3",
   "version": "3.8.16"
  },
  "toc": {
   "base_numbering": 1,
   "nav_menu": {},
   "number_sections": true,
   "sideBar": true,
   "skip_h1_title": false,
   "title_cell": "Table of Contents",
   "title_sidebar": "Contents",
   "toc_cell": false,
   "toc_position": {},
   "toc_section_display": true,
   "toc_window_display": false
  },
  "varInspector": {
   "cols": {
    "lenName": 16,
    "lenType": 16,
    "lenVar": 40
   },
   "kernels_config": {
    "python": {
     "delete_cmd_postfix": "",
     "delete_cmd_prefix": "del ",
     "library": "var_list.py",
     "varRefreshCmd": "print(var_dic_list())"
    },
    "r": {
     "delete_cmd_postfix": ") ",
     "delete_cmd_prefix": "rm(",
     "library": "var_list.r",
     "varRefreshCmd": "cat(var_dic_list()) "
    }
   },
   "types_to_exclude": [
    "module",
    "function",
    "builtin_function_or_method",
    "instance",
    "_Feature"
   ],
   "window_display": false
  }
 },
 "nbformat": 4,
 "nbformat_minor": 5
}
