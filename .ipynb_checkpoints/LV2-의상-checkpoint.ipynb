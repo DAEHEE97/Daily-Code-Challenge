{
 "cells": [
  {
   "cell_type": "markdown",
   "id": "284be502",
   "metadata": {},
   "source": [
    "# LV2-의상\n",
    "- https://school.programmers.co.kr/learn/courses/30/lessons/42578"
   ]
  },
  {
   "cell_type": "markdown",
   "id": "8a941d24",
   "metadata": {},
   "source": [
    "---"
   ]
  },
  {
   "cell_type": "code",
   "execution_count": 1,
   "id": "192f0d77",
   "metadata": {},
   "outputs": [],
   "source": [
    "from collections import Counter\n",
    "\n",
    "# 경우의 수 체크\n",
    "# 각 종류의 옷가지 수에 +1(옷 안입은거) 거듭 곱\n",
    "# 전부 입지 않은 경우 -1\n",
    "# 얼굴 2종류 상의 1종류\n",
    "# 3 * 2 모든 종류, 안입음 -1\n",
    "\n",
    "def solution(clothes):\n",
    "    print(clothes)\n",
    "    \n",
    "    dic = Counter( [c[1] for c in clothes] )\n",
    "    cnt = 1\n",
    "    \n",
    "    for cnt_c in dic.values():\n",
    "        cnt = cnt*(cnt_c+1)\n",
    "        \n",
    "    return cnt-1"
   ]
  }
 ],
 "metadata": {
  "kernelspec": {
   "display_name": "Python 3 (ipykernel)",
   "language": "python",
   "name": "python3"
  },
  "language_info": {
   "codemirror_mode": {
    "name": "ipython",
    "version": 3
   },
   "file_extension": ".py",
   "mimetype": "text/x-python",
   "name": "python",
   "nbconvert_exporter": "python",
   "pygments_lexer": "ipython3",
   "version": "3.8.16"
  },
  "toc": {
   "base_numbering": 1,
   "nav_menu": {},
   "number_sections": true,
   "sideBar": true,
   "skip_h1_title": false,
   "title_cell": "Table of Contents",
   "title_sidebar": "Contents",
   "toc_cell": false,
   "toc_position": {},
   "toc_section_display": true,
   "toc_window_display": false
  },
  "varInspector": {
   "cols": {
    "lenName": 16,
    "lenType": 16,
    "lenVar": 40
   },
   "kernels_config": {
    "python": {
     "delete_cmd_postfix": "",
     "delete_cmd_prefix": "del ",
     "library": "var_list.py",
     "varRefreshCmd": "print(var_dic_list())"
    },
    "r": {
     "delete_cmd_postfix": ") ",
     "delete_cmd_prefix": "rm(",
     "library": "var_list.r",
     "varRefreshCmd": "cat(var_dic_list()) "
    }
   },
   "types_to_exclude": [
    "module",
    "function",
    "builtin_function_or_method",
    "instance",
    "_Feature"
   ],
   "window_display": false
  }
 },
 "nbformat": 4,
 "nbformat_minor": 5
}
