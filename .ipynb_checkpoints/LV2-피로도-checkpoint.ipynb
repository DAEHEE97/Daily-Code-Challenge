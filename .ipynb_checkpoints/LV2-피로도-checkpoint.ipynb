{
 "cells": [
  {
   "cell_type": "markdown",
   "id": "a74def32",
   "metadata": {},
   "source": [
    "# LV2-피로도\n",
    "- https://school.programmers.co.kr/learn/courses/30/lessons/87946"
   ]
  },
  {
   "cell_type": "markdown",
   "id": "684ab046",
   "metadata": {},
   "source": [
    "---"
   ]
  },
  {
   "cell_type": "code",
   "execution_count": null,
   "id": "ceba2b33",
   "metadata": {},
   "outputs": [],
   "source": [
    "# BFS 접근법\n",
    "# K : 현재 피로도\n",
    "# [최소 필요, 소모] = 탐험 시작에 필요 / 탐험 종료 후 소모\n",
    "import itertools\n",
    "\n",
    "def solution(k, dungeons):\n",
    "    nPr = itertools.permutations(dungeons, len(dungeons))\n",
    "    ## 방문 순서에 대한 순열!\n",
    "    max_visited = 0\n",
    "    ## 최대 방문 던전 수\n",
    "    \n",
    "    for order in nPr:\n",
    "        cur_k = k       # 현재 피로도\n",
    "        visited = 0     # 현재 방문 던전수\n",
    "        for dungeon in order:   \n",
    "            if cur_k >= dungeon[0]:\n",
    "                cur_k -= dungeon[1]\n",
    "                visited += 1\n",
    "                ## 현재 체력 >= 최소피로도일 경우 방문!\n",
    "            else:\n",
    "                break;\n",
    "        if visited > max_visited:\n",
    "            max_visited = visited\n",
    "            # 방문 던전수 > 최대 방문 던전수 -> 업데이트하기\n",
    "        else:\n",
    "            continue\n",
    "    \n",
    "    return max_visited\n",
    "\n",
    "\n",
    "## BFS 접근법\n",
    "from collections import deque\n",
    "\n",
    "# K : 현재 피로도\n",
    "# dungeons[최소 필요, 소모] = 탐험 시작에 필요 / 탐험 종료 후 소모\n",
    "def solution(k, dungeons):\n",
    "    answer = 0\n",
    "    queue = deque()\n",
    "    visited = [] # 방문 노드\n",
    "    queue.append((k, visited))\n",
    "    # Queue에 현재 체력과 다음 경로를 넣음\n",
    "    \n",
    "    while queue:\n",
    "        # print(queue)\n",
    "        k, route = queue.popleft()\n",
    "        # print(k, route)\n",
    "        for i in range(len(dungeons)):\n",
    "            min_req, loss_req = dungeons[i]  # 최소 필요 피로도, 소모 피로도\n",
    "            if min_req <= k and (i not in route): # 최소필요 < 현재 체력 && 방문하지 않은 노드\n",
    "                # print(route)\n",
    "                temp = route + [i]\n",
    "                # print(temp)\n",
    "                queue.append(((k - loss_req), temp))\n",
    "            else:\n",
    "                answer = max(answer, len(route))\n",
    "            # print(min_req, loss_req)\n",
    "    \n",
    "    return answer"
   ]
  }
 ],
 "metadata": {
  "kernelspec": {
   "display_name": "Python 3 (ipykernel)",
   "language": "python",
   "name": "python3"
  },
  "language_info": {
   "codemirror_mode": {
    "name": "ipython",
    "version": 3
   },
   "file_extension": ".py",
   "mimetype": "text/x-python",
   "name": "python",
   "nbconvert_exporter": "python",
   "pygments_lexer": "ipython3",
   "version": "3.8.16"
  },
  "toc": {
   "base_numbering": 1,
   "nav_menu": {},
   "number_sections": true,
   "sideBar": true,
   "skip_h1_title": false,
   "title_cell": "Table of Contents",
   "title_sidebar": "Contents",
   "toc_cell": false,
   "toc_position": {},
   "toc_section_display": true,
   "toc_window_display": false
  },
  "varInspector": {
   "cols": {
    "lenName": 16,
    "lenType": 16,
    "lenVar": 40
   },
   "kernels_config": {
    "python": {
     "delete_cmd_postfix": "",
     "delete_cmd_prefix": "del ",
     "library": "var_list.py",
     "varRefreshCmd": "print(var_dic_list())"
    },
    "r": {
     "delete_cmd_postfix": ") ",
     "delete_cmd_prefix": "rm(",
     "library": "var_list.r",
     "varRefreshCmd": "cat(var_dic_list()) "
    }
   },
   "types_to_exclude": [
    "module",
    "function",
    "builtin_function_or_method",
    "instance",
    "_Feature"
   ],
   "window_display": false
  }
 },
 "nbformat": 4,
 "nbformat_minor": 5
}
