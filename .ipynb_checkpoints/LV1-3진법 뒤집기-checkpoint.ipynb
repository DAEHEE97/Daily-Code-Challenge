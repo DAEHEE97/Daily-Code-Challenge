{
 "cells": [
  {
   "cell_type": "markdown",
   "id": "33358410",
   "metadata": {},
   "source": [
    "# LV1-3진법 뒤집기\n",
    "\n",
    "- https://school.programmers.co.kr/learn/courses/30/lessons/68935"
   ]
  },
  {
   "cell_type": "code",
   "execution_count": 1,
   "id": "45b63cc8",
   "metadata": {},
   "outputs": [],
   "source": [
    "def solution(N):\n",
    "    \n",
    "    jin = \"\" \n",
    "    while N > 0:\n",
    "        \n",
    "        r = N % 3\n",
    "        ;\n",
    "        jin = str(r) + jin \n",
    "        \n",
    "        N = N // 3  # 10진수를 3으로 나눈 몫을 계산\n",
    "    \n",
    "    jin_r  = jin[::-1]\n",
    "    \n",
    "    answer = int(jin_r, 3)\n",
    "    \n",
    "    return answer"
   ]
  },
  {
   "cell_type": "code",
   "execution_count": 2,
   "id": "b7db214b",
   "metadata": {},
   "outputs": [
    {
     "data": {
      "text/plain": [
       "7"
      ]
     },
     "execution_count": 2,
     "metadata": {},
     "output_type": "execute_result"
    }
   ],
   "source": [
    "solution(45)"
   ]
  }
 ],
 "metadata": {
  "kernelspec": {
   "display_name": "Python 3 (ipykernel)",
   "language": "python",
   "name": "python3"
  },
  "language_info": {
   "codemirror_mode": {
    "name": "ipython",
    "version": 3
   },
   "file_extension": ".py",
   "mimetype": "text/x-python",
   "name": "python",
   "nbconvert_exporter": "python",
   "pygments_lexer": "ipython3",
   "version": "3.8.16"
  },
  "toc": {
   "base_numbering": 1,
   "nav_menu": {},
   "number_sections": true,
   "sideBar": true,
   "skip_h1_title": false,
   "title_cell": "Table of Contents",
   "title_sidebar": "Contents",
   "toc_cell": false,
   "toc_position": {},
   "toc_section_display": true,
   "toc_window_display": false
  },
  "varInspector": {
   "cols": {
    "lenName": 16,
    "lenType": 16,
    "lenVar": 40
   },
   "kernels_config": {
    "python": {
     "delete_cmd_postfix": "",
     "delete_cmd_prefix": "del ",
     "library": "var_list.py",
     "varRefreshCmd": "print(var_dic_list())"
    },
    "r": {
     "delete_cmd_postfix": ") ",
     "delete_cmd_prefix": "rm(",
     "library": "var_list.r",
     "varRefreshCmd": "cat(var_dic_list()) "
    }
   },
   "types_to_exclude": [
    "module",
    "function",
    "builtin_function_or_method",
    "instance",
    "_Feature"
   ],
   "window_display": false
  }
 },
 "nbformat": 4,
 "nbformat_minor": 5
}
