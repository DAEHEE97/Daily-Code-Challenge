{
 "cells": [
  {
   "cell_type": "markdown",
   "id": "868a9951",
   "metadata": {},
   "source": [
    "# LV2-연속 부분 수열 합의 개수\n",
    "- https://school.programmers.co.kr/learn/courses/30/lessons/131701"
   ]
  },
  {
   "cell_type": "markdown",
   "id": "28ea3cbc",
   "metadata": {},
   "source": [
    "---"
   ]
  },
  {
   "cell_type": "code",
   "execution_count": 1,
   "id": "fcc732a7",
   "metadata": {},
   "outputs": [],
   "source": [
    "def solution(elements):\n",
    "    \n",
    "    sset = set(elements)\n",
    "    \n",
    "    for n in range(1, len(elements) + 1):\n",
    "        \n",
    "        for idx in range(len(elements)):\n",
    "            \n",
    "            if idx + n < len(elements):\n",
    "                sset.add(sum(elements[idx:idx+n]))\n",
    "            else:\n",
    "                sset.add(sum(elements[idx:]) + sum(elements[:idx+n-len(elements)]))\n",
    "    \n",
    "    return len(sset)"
   ]
  },
  {
   "cell_type": "code",
   "execution_count": 2,
   "id": "a3d4012b",
   "metadata": {},
   "outputs": [
    {
     "data": {
      "text/plain": [
       "18"
      ]
     },
     "execution_count": 2,
     "metadata": {},
     "output_type": "execute_result"
    }
   ],
   "source": [
    "solution([7,9,1,1,4])"
   ]
  },
  {
   "cell_type": "markdown",
   "id": "f2be5f43",
   "metadata": {},
   "source": [
    "---"
   ]
  },
  {
   "cell_type": "code",
   "execution_count": 3,
   "id": "9c0e8d62",
   "metadata": {},
   "outputs": [],
   "source": [
    "def solution(elements):\n",
    "    \n",
    "    answer = 0\n",
    "    \n",
    "    elements = elements + elements\n",
    "    \n",
    "    candidate = [sum(elements)]\n",
    "    \n",
    "    for i in range(1,len(elements)//2): \n",
    "        \n",
    "        for j in range(len(elements)//2):\n",
    "            \n",
    "            candidate.append(sum(elements[j:j+i]))\n",
    "    \n",
    "    answer = len(set(candidate))  \n",
    "    \n",
    "    return answer\n"
   ]
  },
  {
   "cell_type": "code",
   "execution_count": 4,
   "id": "2a60b49e",
   "metadata": {},
   "outputs": [
    {
     "data": {
      "text/plain": [
       "18"
      ]
     },
     "execution_count": 4,
     "metadata": {},
     "output_type": "execute_result"
    }
   ],
   "source": [
    "solution([7,9,1,1,4])"
   ]
  }
 ],
 "metadata": {
  "kernelspec": {
   "display_name": "Python 3 (ipykernel)",
   "language": "python",
   "name": "python3"
  },
  "language_info": {
   "codemirror_mode": {
    "name": "ipython",
    "version": 3
   },
   "file_extension": ".py",
   "mimetype": "text/x-python",
   "name": "python",
   "nbconvert_exporter": "python",
   "pygments_lexer": "ipython3",
   "version": "3.8.16"
  },
  "toc": {
   "base_numbering": 1,
   "nav_menu": {},
   "number_sections": true,
   "sideBar": true,
   "skip_h1_title": false,
   "title_cell": "Table of Contents",
   "title_sidebar": "Contents",
   "toc_cell": false,
   "toc_position": {},
   "toc_section_display": true,
   "toc_window_display": false
  },
  "varInspector": {
   "cols": {
    "lenName": 16,
    "lenType": 16,
    "lenVar": 40
   },
   "kernels_config": {
    "python": {
     "delete_cmd_postfix": "",
     "delete_cmd_prefix": "del ",
     "library": "var_list.py",
     "varRefreshCmd": "print(var_dic_list())"
    },
    "r": {
     "delete_cmd_postfix": ") ",
     "delete_cmd_prefix": "rm(",
     "library": "var_list.r",
     "varRefreshCmd": "cat(var_dic_list()) "
    }
   },
   "types_to_exclude": [
    "module",
    "function",
    "builtin_function_or_method",
    "instance",
    "_Feature"
   ],
   "window_display": false
  }
 },
 "nbformat": 4,
 "nbformat_minor": 5
}
